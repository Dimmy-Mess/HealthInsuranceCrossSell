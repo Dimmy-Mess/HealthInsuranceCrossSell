{
 "cells": [
  {
   "cell_type": "markdown",
   "id": "92047179",
   "metadata": {},
   "source": [
    "## 0. Imports, Paths and Helper Functions"
   ]
  },
  {
   "cell_type": "markdown",
   "id": "676f1a4e",
   "metadata": {},
   "source": [
    "### 0.1 Imports"
   ]
  },
  {
   "cell_type": "code",
   "execution_count": 1,
   "id": "62fd822d",
   "metadata": {
    "ExecuteTime": {
     "end_time": "2021-09-13T20:04:30.223882Z",
     "start_time": "2021-09-13T20:04:27.805632Z"
    }
   },
   "outputs": [],
   "source": [
    "import json\n",
    "import psycopg2\n",
    "import itertools\n",
    "import pickle\n",
    "\n",
    "\n",
    "\n",
    "\n",
    "import numpy             as np\n",
    "import pandas            as pd\n",
    "import seaborn           as sns\n",
    "import matplotlib.pyplot as plt\n",
    "\n",
    "\n",
    "\n",
    "from IPython.core.display  import HTML\n",
    "from IPython.display       import Image\n",
    "from tabulate              import tabulate\n",
    "from boruta                import BorutaPy\n",
    "from sklearn.ensemble      import RandomForestClassifier\n",
    "from sklearn.preprocessing import RobustScaler, StandardScaler,MinMaxScaler\n",
    "from sklearn.tree          import DecisionTreeClassifier, ExtraTreeClassifier\n",
    "\n",
    "from scipy                 import stats           as ss"
   ]
  },
  {
   "cell_type": "markdown",
   "id": "b0cd2999",
   "metadata": {
    "ExecuteTime": {
     "end_time": "2021-09-10T15:11:54.046016Z",
     "start_time": "2021-09-10T15:11:54.042472Z"
    },
    "heading_collapsed": true
   },
   "source": [
    "### 0.2 Paths"
   ]
  },
  {
   "cell_type": "code",
   "execution_count": 2,
   "id": "79c8f4a9",
   "metadata": {
    "ExecuteTime": {
     "end_time": "2021-09-13T20:04:30.234838Z",
     "start_time": "2021-09-13T20:04:30.226545Z"
    },
    "hidden": true
   },
   "outputs": [],
   "source": [
    "data = '../data/'\n",
    "raw  = 'raw/'\n",
    "interim = 'interim/'\n",
    "processed = 'processed/'\n",
    "\n",
    "modules_path = '../models/'\n",
    "\n",
    "images_path = '../reports/figures/'"
   ]
  },
  {
   "cell_type": "markdown",
   "id": "188e8181",
   "metadata": {},
   "source": [
    "### 0.3 Helper Functions"
   ]
  },
  {
   "cell_type": "code",
   "execution_count": 3,
   "id": "af084bd2",
   "metadata": {
    "ExecuteTime": {
     "end_time": "2021-09-13T20:04:30.348706Z",
     "start_time": "2021-09-13T20:04:30.239265Z"
    }
   },
   "outputs": [],
   "source": [
    "def cramer_v(x,y):\n",
    "    cm = pd.crosstab(x,y).values\n",
    "    n = cm.sum()\n",
    "    r,k = cm.shape\n",
    "    \n",
    "    chi2 = ss.chi2_contingency(cm)[0]\n",
    "    chi2corr = max(0,chi2 - (k-1)*(r-1)/(n-1))\n",
    "    \n",
    "    kcorr=k - (k-1)**2/(n-1) \n",
    "    rcorr=r - (r-1)**2/(n-1) \n",
    "    \n",
    "    v = np.sqrt( (chi2corr/n) / (min (kcorr-1,rcorr-1)))\n",
    "    return v\n",
    "\n",
    "\n",
    "def categorical_feature_correlation(df_cat):\n",
    "    cat_list = df_cat.columns.to_list()\n",
    "    dic_corr = {cat : [] for cat in cat_list}\n",
    "    \n",
    "    for a,b in itertools.product(cat_list,repeat=2):\n",
    "        dic_corr[a].append(cramer_v(df_cat[a],df_cat[b]))\n",
    "\n",
    "    return pd.DataFrame(dic_corr,index=cat_list)\n",
    "\n",
    "\n",
    "def cat_info(ax,total,size = 25,file=False):\n",
    "    for p in ax.patches:\n",
    "        height = p.get_height()\n",
    "        ax.text(p.get_x()+p.get_width()/2.,\n",
    "                height,\n",
    "                '{:1.2f}%'.format(height/total*100),\n",
    "                ha=\"center\",size=size) \n",
    "    plt.show()\n",
    "    \n",
    "    \n",
    "def jupyter_settings():\n",
    "    %matplotlib inline\n",
    "    %pylab inline\n",
    "    \n",
    "    plt.style.use( 'bmh' )\n",
    "    plt.rcParams['figure.figsize'] = [25, 12]\n",
    "    plt.rcParams['font.size'] = 24\n",
    "    \n",
    "    display( HTML( '<style>.container { width:100% !important; }</style>') )\n",
    "    pd.options.display.max_columns = None\n",
    "    pd.options.display.max_rows = None\n",
    "    pd.set_option( 'display.expand_frame_repr', False )\n",
    "    \n",
    "    sns.set()"
   ]
  },
  {
   "cell_type": "code",
   "execution_count": 4,
   "id": "c09ce93b",
   "metadata": {
    "ExecuteTime": {
     "end_time": "2021-09-13T20:04:30.489241Z",
     "start_time": "2021-09-13T20:04:30.354787Z"
    }
   },
   "outputs": [
    {
     "name": "stdout",
     "output_type": "stream",
     "text": [
      "Populating the interactive namespace from numpy and matplotlib\n"
     ]
    },
    {
     "data": {
      "text/html": [
       "<style>.container { width:100% !important; }</style>"
      ],
      "text/plain": [
       "<IPython.core.display.HTML object>"
      ]
     },
     "metadata": {},
     "output_type": "display_data"
    }
   ],
   "source": [
    "jupyter_settings()"
   ]
  },
  {
   "cell_type": "markdown",
   "id": "dae74969",
   "metadata": {},
   "source": [
    "## 6.0 Feature Selection"
   ]
  },
  {
   "cell_type": "code",
   "execution_count": 5,
   "id": "2d9352db",
   "metadata": {
    "ExecuteTime": {
     "end_time": "2021-09-13T20:04:31.207204Z",
     "start_time": "2021-09-13T20:04:30.492166Z"
    }
   },
   "outputs": [],
   "source": [
    "df6 = pd.read_csv(data+processed+'train_processed.csv')\n",
    "\n",
    "x_train_n = df6.drop(['id','response'],axis=1).values\n",
    "y_train_n = df6['response'].values\n"
   ]
  },
  {
   "cell_type": "markdown",
   "id": "4849f889",
   "metadata": {},
   "source": [
    "### 6.1 Feature Selection by Importance"
   ]
  },
  {
   "cell_type": "code",
   "execution_count": 6,
   "id": "99266d04",
   "metadata": {
    "ExecuteTime": {
     "end_time": "2021-09-13T20:04:31.213100Z",
     "start_time": "2021-09-13T20:04:31.209139Z"
    }
   },
   "outputs": [],
   "source": [
    "etc = ExtraTreeClassifier(random_state=42)\n",
    "dtc = DecisionTreeClassifier(random_state=42)"
   ]
  },
  {
   "cell_type": "code",
   "execution_count": 7,
   "id": "70db5227",
   "metadata": {
    "ExecuteTime": {
     "end_time": "2021-09-13T20:04:33.724438Z",
     "start_time": "2021-09-13T20:04:31.215446Z"
    }
   },
   "outputs": [
    {
     "data": {
      "text/html": [
       "<div>\n",
       "<style scoped>\n",
       "    .dataframe tbody tr th:only-of-type {\n",
       "        vertical-align: middle;\n",
       "    }\n",
       "\n",
       "    .dataframe tbody tr th {\n",
       "        vertical-align: top;\n",
       "    }\n",
       "\n",
       "    .dataframe thead th {\n",
       "        text-align: right;\n",
       "    }\n",
       "</style>\n",
       "<table border=\"1\" class=\"dataframe\">\n",
       "  <thead>\n",
       "    <tr style=\"text-align: right;\">\n",
       "      <th></th>\n",
       "      <th>features</th>\n",
       "      <th>ExtraTreeClassifier</th>\n",
       "      <th>DecisionTreeClassifier</th>\n",
       "    </tr>\n",
       "  </thead>\n",
       "  <tbody>\n",
       "    <tr>\n",
       "      <th>0</th>\n",
       "      <td>gender</td>\n",
       "      <td>0.009035</td>\n",
       "      <td>0.028226</td>\n",
       "    </tr>\n",
       "    <tr>\n",
       "      <th>1</th>\n",
       "      <td>age</td>\n",
       "      <td>0.173323</td>\n",
       "      <td>0.134197</td>\n",
       "    </tr>\n",
       "    <tr>\n",
       "      <th>2</th>\n",
       "      <td>region_code</td>\n",
       "      <td>0.085538</td>\n",
       "      <td>0.094766</td>\n",
       "    </tr>\n",
       "    <tr>\n",
       "      <th>3</th>\n",
       "      <td>policy_sales_channel</td>\n",
       "      <td>0.060569</td>\n",
       "      <td>0.052700</td>\n",
       "    </tr>\n",
       "    <tr>\n",
       "      <th>4</th>\n",
       "      <td>driving_license</td>\n",
       "      <td>0.000678</td>\n",
       "      <td>0.000472</td>\n",
       "    </tr>\n",
       "    <tr>\n",
       "      <th>5</th>\n",
       "      <td>vehicle_age</td>\n",
       "      <td>0.003934</td>\n",
       "      <td>0.010492</td>\n",
       "    </tr>\n",
       "    <tr>\n",
       "      <th>6</th>\n",
       "      <td>vehicle_damage</td>\n",
       "      <td>0.125651</td>\n",
       "      <td>0.125651</td>\n",
       "    </tr>\n",
       "    <tr>\n",
       "      <th>7</th>\n",
       "      <td>previously_insured</td>\n",
       "      <td>0.013924</td>\n",
       "      <td>0.012038</td>\n",
       "    </tr>\n",
       "    <tr>\n",
       "      <th>8</th>\n",
       "      <td>annual_premium</td>\n",
       "      <td>0.243601</td>\n",
       "      <td>0.266364</td>\n",
       "    </tr>\n",
       "    <tr>\n",
       "      <th>9</th>\n",
       "      <td>vintage</td>\n",
       "      <td>0.283747</td>\n",
       "      <td>0.275093</td>\n",
       "    </tr>\n",
       "  </tbody>\n",
       "</table>\n",
       "</div>"
      ],
      "text/plain": [
       "               features  ExtraTreeClassifier  DecisionTreeClassifier\n",
       "0                gender             0.009035                0.028226\n",
       "1                   age             0.173323                0.134197\n",
       "2           region_code             0.085538                0.094766\n",
       "3  policy_sales_channel             0.060569                0.052700\n",
       "4       driving_license             0.000678                0.000472\n",
       "5           vehicle_age             0.003934                0.010492\n",
       "6        vehicle_damage             0.125651                0.125651\n",
       "7    previously_insured             0.013924                0.012038\n",
       "8        annual_premium             0.243601                0.266364\n",
       "9               vintage             0.283747                0.275093"
      ]
     },
     "execution_count": 7,
     "metadata": {},
     "output_type": "execute_result"
    }
   ],
   "source": [
    "etc.fit(x_train_n,y_train_n)\n",
    "dtc.fit(x_train_n,y_train_n)\n",
    "\n",
    "aux = pd.DataFrame({'features': df6.drop(['id','response'],axis=1).columns,\n",
    "                    'ExtraTreeClassifier': etc.feature_importances_, \n",
    "                    'DecisionTreeClassifier':dtc.feature_importances_})\n",
    "aux"
   ]
  },
  {
   "cell_type": "code",
   "execution_count": 8,
   "id": "17463514",
   "metadata": {
    "ExecuteTime": {
     "end_time": "2021-09-13T20:04:34.652225Z",
     "start_time": "2021-09-13T20:04:33.727521Z"
    },
    "cell_style": "center"
   },
   "outputs": [
    {
     "data": {
      "text/plain": [
       "<AxesSubplot:xlabel='DecisionTreeClassifier', ylabel='features'>"
      ]
     },
     "execution_count": 8,
     "metadata": {},
     "output_type": "execute_result"
    },
    {
     "data": {
      "image/png": "[encoded data removed]",
      "text/plain": [
       "<Figure size 1800x864 with 2 Axes>"
      ]
     },
     "metadata": {},
     "output_type": "display_data"
    }
   ],
   "source": [
    "aux2 = aux.sort_values('ExtraTreeClassifier',ascending = False)\n",
    "plt.subplot(121)\n",
    "sns.barplot(y='features', x='ExtraTreeClassifier',data = aux2,palette=sns.dark_palette((260, 75, 60), input=\"husl\"))\n",
    "\n",
    "\n",
    "aux2 = aux.sort_values('DecisionTreeClassifier',ascending = False)\n",
    "plt.subplot(122)\n",
    "sns.barplot(y='features', x='DecisionTreeClassifier',data = aux2,palette=sns.dark_palette(\"seagreen\", reverse=True))"
   ]
  },
  {
   "cell_type": "markdown",
   "id": "5b4a04b6",
   "metadata": {
    "cell_style": "center"
   },
   "source": [
    "### 6.2 Feature Selection Using Boruta"
   ]
  },
  {
   "cell_type": "code",
   "execution_count": 9,
   "id": "15633b37",
   "metadata": {
    "ExecuteTime": {
     "end_time": "2021-09-13T20:16:03.766538Z",
     "start_time": "2021-09-13T20:04:34.654664Z"
    }
   },
   "outputs": [],
   "source": [
    "rf = RandomForestClassifier(n_estimators=150)\n",
    "\n",
    "boruta = BorutaPy(rf, n_estimators='auto',verbose=0, random_state=42).fit(x_train_n,y_train_n)"
   ]
  },
  {
   "cell_type": "code",
   "execution_count": 12,
   "id": "d1ea0a6b",
   "metadata": {
    "ExecuteTime": {
     "end_time": "2021-09-13T20:17:39.396253Z",
     "start_time": "2021-09-13T20:17:39.377274Z"
    }
   },
   "outputs": [
    {
     "data": {
      "text/plain": [
       "['age']"
      ]
     },
     "execution_count": 12,
     "metadata": {},
     "output_type": "execute_result"
    }
   ],
   "source": [
    "cs = df6.drop(columns = ['id','response']).loc[:,boruta.support_.tolist()].columns\n",
    "cs.tolist()"
   ]
  },
  {
   "cell_type": "markdown",
   "id": "966eca7d",
   "metadata": {},
   "source": [
    "(OBS: The Imabalanced data can be the origin of boruta confusion! See this e the next cycle!)"
   ]
  },
  {
   "cell_type": "markdown",
   "id": "0a0875f0",
   "metadata": {},
   "source": [
    "### 6.3 Features selected"
   ]
  },
  {
   "cell_type": "code",
   "execution_count": 11,
   "id": "7ac727b6",
   "metadata": {
    "ExecuteTime": {
     "end_time": "2021-09-13T20:16:03.925139Z",
     "start_time": "2021-09-13T20:16:03.790183Z"
    }
   },
   "outputs": [],
   "source": [
    "selected_cols = ['vintage',\n",
    "                 'annual_premium',\n",
    "                 'age',\n",
    "                 'vehicle_damage',\n",
    "                 'region_code',\n",
    "                 'policy_sales_channel']"
   ]
  },
  {
   "cell_type": "code",
   "execution_count": null,
   "id": "d75df610",
   "metadata": {},
   "outputs": [],
   "source": []
  }
 ],
 "metadata": {
  "kernelspec": {
   "display_name": "Python 3",
   "language": "python",
   "name": "python3"
  },
  "language_info": {
   "codemirror_mode": {
    "name": "ipython",
    "version": 3
   },
   "file_extension": ".py",
   "mimetype": "text/x-python",
   "name": "python",
   "nbconvert_exporter": "python",
   "pygments_lexer": "ipython3",
   "version": "3.6.9"
  }
 },
 "nbformat": 4,
 "nbformat_minor": 5
}
