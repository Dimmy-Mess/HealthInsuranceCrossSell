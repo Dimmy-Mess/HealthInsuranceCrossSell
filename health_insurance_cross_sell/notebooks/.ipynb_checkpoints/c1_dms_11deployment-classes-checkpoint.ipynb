{
 "cells": [
  {
   "cell_type": "markdown",
   "id": "92047179",
   "metadata": {},
   "source": [
    "## 0. Imports, Paths and Helper Functions"
   ]
  },
  {
   "cell_type": "code",
   "execution_count": 2,
   "id": "1f1694b6",
   "metadata": {
    "ExecuteTime": {
     "end_time": "2021-09-24T18:47:11.046612Z",
     "start_time": "2021-09-24T18:47:10.943841Z"
    }
   },
   "outputs": [],
   "source": [
    "import requests"
   ]
  },
  {
   "cell_type": "markdown",
   "id": "188e8181",
   "metadata": {
    "heading_collapsed": true
   },
   "source": [
    "### 0.3 Helper Functions"
   ]
  },
  {
   "cell_type": "code",
   "execution_count": 81,
   "id": "835f3414",
   "metadata": {
    "ExecuteTime": {
     "end_time": "2021-09-23T18:29:24.784049Z",
     "start_time": "2021-09-23T18:29:24.763492Z"
    },
    "hidden": true
   },
   "outputs": [],
   "source": [
    "def jupyter_settings():\n",
    "    %matplotlib inline\n",
    "    %pylab inline\n",
    "    \n",
    "    plt.style.use( 'bmh' )\n",
    "    plt.rcParams['figure.figsize'] = [25, 12]\n",
    "    plt.rcParams['font.size'] = 24\n",
    "    \n",
    "    display( HTML( '<style>.container { width:100% !important; }</style>') )\n",
    "    pd.options.display.max_columns = None\n",
    "    pd.options.display.max_rows = None\n",
    "    pd.set_option( 'display.expand_frame_repr', False )\n",
    "    \n",
    "    sns.set()"
   ]
  },
  {
   "cell_type": "code",
   "execution_count": 4,
   "id": "c09ce93b",
   "metadata": {
    "ExecuteTime": {
     "end_time": "2021-09-21T01:05:20.773040Z",
     "start_time": "2021-09-21T01:05:20.548471Z"
    },
    "hidden": true
   },
   "outputs": [
    {
     "name": "stdout",
     "output_type": "stream",
     "text": [
      "Populating the interactive namespace from numpy and matplotlib\n"
     ]
    },
    {
     "data": {
      "text/html": [
       "<style>.container { width:100% !important; }</style>"
      ],
      "text/plain": [
       "<IPython.core.display.HTML object>"
      ]
     },
     "metadata": {},
     "output_type": "display_data"
    }
   ],
   "source": [
    "jupyter_settings()"
   ]
  },
  {
   "cell_type": "markdown",
   "id": "9273fff7",
   "metadata": {
    "ExecuteTime": {
     "end_time": "2021-09-22T21:33:43.336616Z",
     "start_time": "2021-09-22T21:33:43.331097Z"
    }
   },
   "source": [
    "## 11 - Deployment"
   ]
  },
  {
   "cell_type": "markdown",
   "id": "10d4ce95",
   "metadata": {},
   "source": [
    "### 11.1 Data Treatment Class"
   ]
  },
  {
   "cell_type": "code",
   "execution_count": 2,
   "id": "06b54946",
   "metadata": {
    "ExecuteTime": {
     "end_time": "2021-09-24T20:30:03.721510Z",
     "start_time": "2021-09-24T20:30:00.356945Z"
    }
   },
   "outputs": [],
   "source": [
    "import pickle\n",
    "import pandas as pd\n",
    "import numpy  as np\n",
    "\n",
    "class HealthInsurance(object):\n",
    "    \n",
    "    def __init__(self):\n",
    "        \n",
    "        self.home_path = '/home/dimitri/github/pa004_health_insurance_cross_sell/health_insurance_cross_sell/src/features/'\n",
    "        \n",
    "        self.age_scaler = pickle.load(open(self.home_path+'age_scaler.pkl','rb'))\n",
    "        self.annual_premium_scaler = pickle.load(open(self.home_path+'annual_premium_scaler.pkl','rb'))\n",
    "        self.vintage_scaler = pickle.load(open(self.home_path+'age_scaler.pkl','rb'))\n",
    "        \n",
    "        self.policy_sales_channel_encoder = pickle.load(open(self.home_path+'policy_sales_channel_encoder.pkl','rb'))\n",
    "        self.vehicle_age_encoder = pickle.load(open(self.home_path+'vehicle_age_encoder.pkl','rb'))\n",
    "        self.region_code_encoder = pickle.load(open(self.home_path+'region_code_encoder.pkl','rb'))\n",
    "       \n",
    "        \n",
    "        \n",
    "    def data_cleaning(self,df1):\n",
    "        \n",
    "        col_names = ['id', 'gender', 'age', 'region_code', 'policy_sales_channel','driving_license',\n",
    "                     'vehicle_age', 'vehicle_damage', 'previously_insured', 'annual_premium', 'vintage', 'response']\n",
    "        \n",
    "        df1.columns = col_names\n",
    "        return df1\n",
    "    \n",
    "    \n",
    "    def feature_engineering(self,df2):\n",
    "        \n",
    "        df2['vehicle_damage'] = df2['vehicle_damage'].apply(lambda x: 1 if x==\"Yes\" else 0)\n",
    "        df2['vehicle_age']    = df2['vehicle_age'].apply(lambda x: \"over_2years\" if x ==\"> 2 Years\" else \"between_12years\" if x == \"1-2 Year\" else \"below_year\")\n",
    "        df2['gender']         = df2['gender'].apply(lambda x: x.lower())\n",
    "        \n",
    "        return df2\n",
    "        \n",
    "        \n",
    "    def data_preparation(self,df5):\n",
    "        \n",
    "        gender_encoder = {'male':0,'female':1}\n",
    "        \n",
    "        df5['age'] = self.age_scaler.transform(df5[['age']].values)\n",
    "        df5['annual_premium'] = self.annual_premium_scaler.transform(df5[['annual_premium']].values)\n",
    "        df5['vintage'] = self.vintage_scaler.transform(df5[['vintage']].values)\n",
    "        \n",
    "        df5.loc[:,'gender'] = df5['gender'].map(gender_encoder)\n",
    "        df5.loc[:,'region_code'] = df5['region_code'].map(self.region_code_encoder)\n",
    "        df5.loc[:,'vehicle_age'] = df5['vehicle_age'].map(self.vehicle_age_encoder)\n",
    "        df5.loc[:,'policy_sales_channel'] =df5['policy_sales_channel'].map(self.policy_sales_channel_encoder)\n",
    "\n",
    "        df5.fillna(0,inplace = True)\n",
    "        \n",
    "        selected_cols = ['vintage', 'annual_premium', 'age', 'vehicle_damage', 'region_code', 'policy_sales_channel']\n",
    "        \n",
    "        return df5[selected_cols]\n",
    "    \n",
    "    \n",
    "    def get_prediction(self,model,df,df_test):\n",
    "        \n",
    "        predictions = model.predict_proba(df_test)\n",
    "        \n",
    "        df['score'] = predictions[:,1].tolist()\n",
    "        df = df.sort_values('score',ascending = False)\n",
    "        \n",
    "        return df.to_json(orient='records', date_format='iso')\n",
    "    \n",
    "    "
   ]
  },
  {
   "cell_type": "code",
   "execution_count": 4,
   "id": "372a7d94",
   "metadata": {
    "ExecuteTime": {
     "end_time": "2021-09-24T18:47:32.907764Z",
     "start_time": "2021-09-24T18:47:24.788742Z"
    }
   },
   "outputs": [
    {
     "data": {
      "text/html": [
       "<div>\n",
       "<style scoped>\n",
       "    .dataframe tbody tr th:only-of-type {\n",
       "        vertical-align: middle;\n",
       "    }\n",
       "\n",
       "    .dataframe tbody tr th {\n",
       "        vertical-align: top;\n",
       "    }\n",
       "\n",
       "    .dataframe thead th {\n",
       "        text-align: right;\n",
       "    }\n",
       "</style>\n",
       "<table border=\"1\" class=\"dataframe\">\n",
       "  <thead>\n",
       "    <tr style=\"text-align: right;\">\n",
       "      <th></th>\n",
       "      <th>id</th>\n",
       "      <th>gender</th>\n",
       "      <th>age</th>\n",
       "      <th>region_code</th>\n",
       "      <th>policy_sales_channel</th>\n",
       "      <th>driving_license</th>\n",
       "      <th>vehicle_age</th>\n",
       "      <th>vehicle_damage</th>\n",
       "      <th>previously_insured</th>\n",
       "      <th>annual_premium</th>\n",
       "      <th>vintage</th>\n",
       "      <th>response</th>\n",
       "    </tr>\n",
       "  </thead>\n",
       "  <tbody>\n",
       "    <tr>\n",
       "      <th>0</th>\n",
       "      <td>7</td>\n",
       "      <td>Male</td>\n",
       "      <td>23</td>\n",
       "      <td>11.0</td>\n",
       "      <td>152.0</td>\n",
       "      <td>1</td>\n",
       "      <td>&lt; 1 Year</td>\n",
       "      <td>Yes</td>\n",
       "      <td>0</td>\n",
       "      <td>23367.0</td>\n",
       "      <td>249</td>\n",
       "      <td>0</td>\n",
       "    </tr>\n",
       "    <tr>\n",
       "      <th>1</th>\n",
       "      <td>13</td>\n",
       "      <td>Female</td>\n",
       "      <td>41</td>\n",
       "      <td>15.0</td>\n",
       "      <td>14.0</td>\n",
       "      <td>1</td>\n",
       "      <td>1-2 Year</td>\n",
       "      <td>No</td>\n",
       "      <td>1</td>\n",
       "      <td>31409.0</td>\n",
       "      <td>221</td>\n",
       "      <td>0</td>\n",
       "    </tr>\n",
       "    <tr>\n",
       "      <th>2</th>\n",
       "      <td>18</td>\n",
       "      <td>Female</td>\n",
       "      <td>25</td>\n",
       "      <td>35.0</td>\n",
       "      <td>152.0</td>\n",
       "      <td>1</td>\n",
       "      <td>&lt; 1 Year</td>\n",
       "      <td>No</td>\n",
       "      <td>1</td>\n",
       "      <td>46622.0</td>\n",
       "      <td>299</td>\n",
       "      <td>0</td>\n",
       "    </tr>\n",
       "    <tr>\n",
       "      <th>3</th>\n",
       "      <td>31</td>\n",
       "      <td>Female</td>\n",
       "      <td>26</td>\n",
       "      <td>8.0</td>\n",
       "      <td>160.0</td>\n",
       "      <td>1</td>\n",
       "      <td>&lt; 1 Year</td>\n",
       "      <td>No</td>\n",
       "      <td>0</td>\n",
       "      <td>2630.0</td>\n",
       "      <td>136</td>\n",
       "      <td>0</td>\n",
       "    </tr>\n",
       "    <tr>\n",
       "      <th>4</th>\n",
       "      <td>39</td>\n",
       "      <td>Male</td>\n",
       "      <td>45</td>\n",
       "      <td>8.0</td>\n",
       "      <td>124.0</td>\n",
       "      <td>1</td>\n",
       "      <td>1-2 Year</td>\n",
       "      <td>Yes</td>\n",
       "      <td>0</td>\n",
       "      <td>42297.0</td>\n",
       "      <td>264</td>\n",
       "      <td>0</td>\n",
       "    </tr>\n",
       "  </tbody>\n",
       "</table>\n",
       "</div>"
      ],
      "text/plain": [
       "   id  gender  age  region_code  policy_sales_channel  driving_license  \\\n",
       "0   7    Male   23         11.0                 152.0                1   \n",
       "1  13  Female   41         15.0                  14.0                1   \n",
       "2  18  Female   25         35.0                 152.0                1   \n",
       "3  31  Female   26          8.0                 160.0                1   \n",
       "4  39    Male   45          8.0                 124.0                1   \n",
       "\n",
       "  vehicle_age vehicle_damage  previously_insured  annual_premium  vintage  \\\n",
       "0    < 1 Year            Yes                   0         23367.0      249   \n",
       "1    1-2 Year             No                   1         31409.0      221   \n",
       "2    < 1 Year             No                   1         46622.0      299   \n",
       "3    < 1 Year             No                   0          2630.0      136   \n",
       "4    1-2 Year            Yes                   0         42297.0      264   \n",
       "\n",
       "   response  \n",
       "0         0  \n",
       "1         0  \n",
       "2         0  \n",
       "3         0  \n",
       "4         0  "
      ]
     },
     "execution_count": 4,
     "metadata": {},
     "output_type": "execute_result"
    }
   ],
   "source": [
    "pipeline = HealthInsurance()\n",
    "model = pickle.load(open('../src/models/ab_model.pkl','rb'))\n",
    "\n",
    "df = pd.read_csv('../data/raw/clients.csv')\n",
    "df.head()"
   ]
  },
  {
   "cell_type": "markdown",
   "id": "6afeb4ae",
   "metadata": {},
   "source": [
    "**Testing data_treatment**"
   ]
  },
  {
   "cell_type": "code",
   "execution_count": 5,
   "id": "218deee2",
   "metadata": {
    "ExecuteTime": {
     "end_time": "2021-09-24T18:47:51.954075Z",
     "start_time": "2021-09-24T18:47:32.910937Z"
    }
   },
   "outputs": [
    {
     "data": {
      "text/plain": [
       "'[{\"id\":142412,\"gender\":0,\"age\"'"
      ]
     },
     "execution_count": 5,
     "metadata": {},
     "output_type": "execute_result"
    }
   ],
   "source": [
    "df1 = pipeline.feature_engineering(df)\n",
    "df2 = pipeline.data_preparation(df1)\n",
    "df = pipeline.get_prediction(model,df,df2)\n",
    "df[:30]"
   ]
  },
  {
   "cell_type": "markdown",
   "id": "6dab003f",
   "metadata": {},
   "source": [
    "### 11.2 API Handler"
   ]
  },
  {
   "cell_type": "code",
   "execution_count": 8,
   "id": "ccdb33eb",
   "metadata": {
    "ExecuteTime": {
     "end_time": "2021-09-23T16:55:43.596210Z",
     "start_time": "2021-09-23T16:55:37.273577Z"
    }
   },
   "outputs": [
    {
     "name": "stdout",
     "output_type": "stream",
     "text": [
      "Loading predictor model...\n",
      "Loaded!\n",
      "\n",
      "========= INITIALIZING SERVER ==========\n",
      "\n",
      "\n"
     ]
    }
   ],
   "source": [
    "import pandas as pd\n",
    "import numpy  as np\n",
    "from flask import Flask, request, Response\n",
    "from healthinsurance.HealthInsurance import HealthInsurance\n",
    "\n",
    "print('Loading predictor model...')\n",
    "path  = '/home/dimitri/github/pa004_health_insurance_cross_sell/health_insurance_cross_sell/src/'\n",
    "model = pickle.load(open(path + 'models/ab_model.pkl','rb'))\n",
    "print('Loaded!')\n",
    "\n",
    "\n",
    "print(\"\\n========= INITIALIZING SERVER ==========\\n\\n\")\n",
    "\n",
    "#initialize api\n",
    "app = Flask(__name__)\n",
    "\n",
    "@app.route('/predict', methods=['POST'])\n",
    "def healthinsurance_predict():\n",
    "    test_json = request.get_json()\n",
    "    \n",
    "    if test_json:\n",
    "        if isinstance(test_json,dict): #unique example\n",
    "            test_raw = pd.DataFrame(test_json,index=[0])\n",
    "        else: #multiple examples\n",
    "            test_raw = pd.DataFrame(test_json, columns=test_json[0].keys())\n",
    "        \n",
    "        #instantiate HealthInsurance class\n",
    "        pipeline = HealthInsurance()\n",
    "\n",
    "        #data cleaning\n",
    "        df1 = pipeline.data_cleaning(test_raw)\n",
    "        #feature Engineering\n",
    "        df2 = pipeline.feature_engineering(df1)\n",
    "        #data preparation\n",
    "        df3 = pipeline.data_preparation(df2)\n",
    "        #prediction\n",
    "        df_response = pipeline.get_prediction(model, test_raw, df3)\n",
    "        \n",
    "        return df_response\n",
    "    else:\n",
    "        return Response('{}',status=200, mimetype='application/json')\n",
    "    \n",
    "\n",
    "if __name__ =='__main__':\n",
    "    app.run(0.0.0.0,debug=True)"
   ]
  },
  {
   "cell_type": "markdown",
   "id": "03fb1f85",
   "metadata": {},
   "source": [
    "### 11.3 API Testing"
   ]
  },
  {
   "cell_type": "code",
   "execution_count": 6,
   "id": "8d387579",
   "metadata": {
    "ExecuteTime": {
     "end_time": "2021-09-24T18:48:02.059247Z",
     "start_time": "2021-09-24T18:48:01.643657Z"
    }
   },
   "outputs": [],
   "source": [
    "df = pd.read_csv('../data/raw/clients.csv')\n",
    "datatest=df.sample(5)\n",
    "to_send = datatest.to_json(orient='records')"
   ]
  },
  {
   "cell_type": "markdown",
   "id": "1842f2e7",
   "metadata": {},
   "source": [
    "### 11.3.1 Local Testing"
   ]
  },
  {
   "cell_type": "code",
   "execution_count": 8,
   "id": "4753edb9",
   "metadata": {
    "ExecuteTime": {
     "end_time": "2021-09-24T18:48:21.108798Z",
     "start_time": "2021-09-24T18:48:21.019709Z"
    }
   },
   "outputs": [
    {
     "name": "stdout",
     "output_type": "stream",
     "text": [
      "Status Code 200\n"
     ]
    }
   ],
   "source": [
    "url = 'http://0.0.0.0:5000/predict'\n",
    "header = {'Content-type': 'application/json' }\n",
    "\n",
    "r = requests.post( url, data=to_send, headers=header )\n",
    "print( 'Status Code {}'.format( r.status_code ) )\n"
   ]
  },
  {
   "cell_type": "markdown",
   "id": "a2d76fbd",
   "metadata": {
    "ExecuteTime": {
     "end_time": "2021-09-23T17:37:32.661360Z",
     "start_time": "2021-09-23T17:37:15.822965Z"
    }
   },
   "source": [
    "### 11.3.2 Cloud Testing "
   ]
  },
  {
   "cell_type": "code",
   "execution_count": 12,
   "id": "25d98986",
   "metadata": {
    "ExecuteTime": {
     "end_time": "2021-09-24T19:14:23.658837Z",
     "start_time": "2021-09-24T19:14:22.195503Z"
    }
   },
   "outputs": [
    {
     "name": "stdout",
     "output_type": "stream",
     "text": [
      "Status Code 200\n"
     ]
    }
   ],
   "source": [
    "url = 'https://healthinsurancebot.herokuapp.com/predict'\n",
    "header = {'Content-type': 'application/json' }\n",
    "\n",
    "r = requests.post( url, data=to_send, headers=header )\n",
    "print( 'Status Code {}'.format( r.status_code ) )\n"
   ]
  },
  {
   "cell_type": "markdown",
   "id": "9ae8608e",
   "metadata": {
    "ExecuteTime": {
     "end_time": "2021-09-24T19:14:32.484179Z",
     "start_time": "2021-09-24T19:14:32.361347Z"
    }
   },
   "source": [
    "### 11.3.3 Getting data to test in deploy ambient"
   ]
  },
  {
   "cell_type": "code",
   "execution_count": 3,
   "id": "a1871974",
   "metadata": {
    "ExecuteTime": {
     "end_time": "2021-09-24T20:30:08.995537Z",
     "start_time": "2021-09-24T20:30:08.643402Z"
    },
    "scrolled": true
   },
   "outputs": [],
   "source": [
    "df_test= pd.read_csv('../data/interim/validation.csv')\n",
    "df_example = df_test.sample(30)"
   ]
  },
  {
   "cell_type": "code",
   "execution_count": 8,
   "id": "b587dba6",
   "metadata": {
    "ExecuteTime": {
     "end_time": "2021-09-24T20:33:11.496500Z",
     "start_time": "2021-09-24T20:33:10.825006Z"
    }
   },
   "outputs": [],
   "source": [
    "df_example.to_excel('../data/interim/example_data.xlsx',index=False)"
   ]
  },
  {
   "cell_type": "code",
   "execution_count": 9,
   "id": "ec58ad91",
   "metadata": {
    "ExecuteTime": {
     "end_time": "2021-09-24T20:33:12.328129Z",
     "start_time": "2021-09-24T20:33:12.301432Z"
    }
   },
   "outputs": [
    {
     "data": {
      "text/html": [
       "<div>\n",
       "<style scoped>\n",
       "    .dataframe tbody tr th:only-of-type {\n",
       "        vertical-align: middle;\n",
       "    }\n",
       "\n",
       "    .dataframe tbody tr th {\n",
       "        vertical-align: top;\n",
       "    }\n",
       "\n",
       "    .dataframe thead th {\n",
       "        text-align: right;\n",
       "    }\n",
       "</style>\n",
       "<table border=\"1\" class=\"dataframe\">\n",
       "  <thead>\n",
       "    <tr style=\"text-align: right;\">\n",
       "      <th></th>\n",
       "      <th>id</th>\n",
       "      <th>gender</th>\n",
       "      <th>age</th>\n",
       "      <th>region_code</th>\n",
       "      <th>policy_sales_channel</th>\n",
       "      <th>driving_license</th>\n",
       "      <th>vehicle_age</th>\n",
       "      <th>vehicle_damage</th>\n",
       "      <th>previously_insured</th>\n",
       "      <th>annual_premium</th>\n",
       "      <th>vintage</th>\n",
       "      <th>response</th>\n",
       "    </tr>\n",
       "  </thead>\n",
       "  <tbody>\n",
       "    <tr>\n",
       "      <th>48390</th>\n",
       "      <td>67280</td>\n",
       "      <td>male</td>\n",
       "      <td>21</td>\n",
       "      <td>3.0</td>\n",
       "      <td>152.0</td>\n",
       "      <td>1</td>\n",
       "      <td>below_year</td>\n",
       "      <td>0</td>\n",
       "      <td>1</td>\n",
       "      <td>36047.0</td>\n",
       "      <td>162</td>\n",
       "      <td>0</td>\n",
       "    </tr>\n",
       "    <tr>\n",
       "      <th>37383</th>\n",
       "      <td>53497</td>\n",
       "      <td>female</td>\n",
       "      <td>30</td>\n",
       "      <td>30.0</td>\n",
       "      <td>152.0</td>\n",
       "      <td>1</td>\n",
       "      <td>below_year</td>\n",
       "      <td>1</td>\n",
       "      <td>0</td>\n",
       "      <td>27050.0</td>\n",
       "      <td>39</td>\n",
       "      <td>0</td>\n",
       "    </tr>\n",
       "    <tr>\n",
       "      <th>36036</th>\n",
       "      <td>346340</td>\n",
       "      <td>female</td>\n",
       "      <td>29</td>\n",
       "      <td>8.0</td>\n",
       "      <td>124.0</td>\n",
       "      <td>1</td>\n",
       "      <td>below_year</td>\n",
       "      <td>1</td>\n",
       "      <td>0</td>\n",
       "      <td>46149.0</td>\n",
       "      <td>27</td>\n",
       "      <td>1</td>\n",
       "    </tr>\n",
       "    <tr>\n",
       "      <th>28185</th>\n",
       "      <td>380399</td>\n",
       "      <td>female</td>\n",
       "      <td>35</td>\n",
       "      <td>28.0</td>\n",
       "      <td>124.0</td>\n",
       "      <td>1</td>\n",
       "      <td>between_12years</td>\n",
       "      <td>0</td>\n",
       "      <td>1</td>\n",
       "      <td>26273.0</td>\n",
       "      <td>250</td>\n",
       "      <td>0</td>\n",
       "    </tr>\n",
       "    <tr>\n",
       "      <th>40956</th>\n",
       "      <td>83673</td>\n",
       "      <td>female</td>\n",
       "      <td>78</td>\n",
       "      <td>28.0</td>\n",
       "      <td>26.0</td>\n",
       "      <td>1</td>\n",
       "      <td>between_12years</td>\n",
       "      <td>1</td>\n",
       "      <td>0</td>\n",
       "      <td>50656.0</td>\n",
       "      <td>164</td>\n",
       "      <td>1</td>\n",
       "    </tr>\n",
       "  </tbody>\n",
       "</table>\n",
       "</div>"
      ],
      "text/plain": [
       "           id  gender  age  region_code  policy_sales_channel  \\\n",
       "48390   67280    male   21          3.0                 152.0   \n",
       "37383   53497  female   30         30.0                 152.0   \n",
       "36036  346340  female   29          8.0                 124.0   \n",
       "28185  380399  female   35         28.0                 124.0   \n",
       "40956   83673  female   78         28.0                  26.0   \n",
       "\n",
       "       driving_license      vehicle_age  vehicle_damage  previously_insured  \\\n",
       "48390                1       below_year               0                   1   \n",
       "37383                1       below_year               1                   0   \n",
       "36036                1       below_year               1                   0   \n",
       "28185                1  between_12years               0                   1   \n",
       "40956                1  between_12years               1                   0   \n",
       "\n",
       "       annual_premium  vintage  response  \n",
       "48390         36047.0      162         0  \n",
       "37383         27050.0       39         0  \n",
       "36036         46149.0       27         1  \n",
       "28185         26273.0      250         0  \n",
       "40956         50656.0      164         1  "
      ]
     },
     "execution_count": 9,
     "metadata": {},
     "output_type": "execute_result"
    }
   ],
   "source": [
    "df_example.head()"
   ]
  },
  {
   "cell_type": "code",
   "execution_count": 11,
   "id": "b6260dd8",
   "metadata": {
    "ExecuteTime": {
     "end_time": "2021-09-25T00:20:53.031037Z",
     "start_time": "2021-09-25T00:20:53.013773Z"
    }
   },
   "outputs": [
    {
     "data": {
      "text/plain": [
       "'[{\"id\":67280,\"gender\":\"male\",\"age\":21,\"region_code\":3.0,\"policy_sales_channel\":152.0,\"driving_license\":1,\"vehicle_age\":\"below_year\",\"vehicle_damage\":0,\"previously_insured\":1,\"annual_premium\":36047.0,\"vintage\":162,\"response\":0},{\"id\":53497,\"gender\":\"female\",\"age\":30,\"region_code\":30.0,\"policy_sales_channel\":152.0,\"driving_license\":1,\"vehicle_age\":\"below_year\",\"vehicle_damage\":1,\"previously_insured\":0,\"annual_premium\":27050.0,\"vintage\":39,\"response\":0},{\"id\":346340,\"gender\":\"female\",\"age\":29,\"region_code\":8.0,\"policy_sales_channel\":124.0,\"driving_license\":1,\"vehicle_age\":\"below_year\",\"vehicle_damage\":1,\"previously_insured\":0,\"annual_premium\":46149.0,\"vintage\":27,\"response\":1},{\"id\":380399,\"gender\":\"female\",\"age\":35,\"region_code\":28.0,\"policy_sales_channel\":124.0,\"driving_license\":1,\"vehicle_age\":\"between_12years\",\"vehicle_damage\":0,\"previously_insured\":1,\"annual_premium\":26273.0,\"vintage\":250,\"response\":0},{\"id\":83673,\"gender\":\"female\",\"age\":78,\"region_code\":28.0,\"policy_sales_channel\":26.0,\"driving_license\":1,\"vehicle_age\":\"between_12years\",\"vehicle_damage\":1,\"previously_insured\":0,\"annual_premium\":50656.0,\"vintage\":164,\"response\":1}]'"
      ]
     },
     "execution_count": 11,
     "metadata": {},
     "output_type": "execute_result"
    }
   ],
   "source": [
    "df_example.head().to_json(orient='records')"
   ]
  },
  {
   "cell_type": "code",
   "execution_count": null,
   "id": "0c9fa3d2",
   "metadata": {},
   "outputs": [],
   "source": []
  }
 ],
 "metadata": {
  "kernelspec": {
   "display_name": "Python 3",
   "language": "python",
   "name": "python3"
  },
  "language_info": {
   "codemirror_mode": {
    "name": "ipython",
    "version": 3
   },
   "file_extension": ".py",
   "mimetype": "text/x-python",
   "name": "python",
   "nbconvert_exporter": "python",
   "pygments_lexer": "ipython3",
   "version": "3.6.9"
  }
 },
 "nbformat": 4,
 "nbformat_minor": 5
}
