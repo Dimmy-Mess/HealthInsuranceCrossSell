{
 "cells": [
  {
   "cell_type": "markdown",
   "id": "92047179",
   "metadata": {},
   "source": [
    "## 0. Imports, Paths and Helper Functions"
   ]
  },
  {
   "cell_type": "markdown",
   "id": "676f1a4e",
   "metadata": {},
   "source": [
    "### 0.1 Imports"
   ]
  },
  {
   "cell_type": "code",
   "execution_count": 1,
   "id": "62fd822d",
   "metadata": {
    "ExecuteTime": {
     "end_time": "2021-09-17T01:25:45.445652Z",
     "start_time": "2021-09-17T01:25:44.161472Z"
    }
   },
   "outputs": [],
   "source": [
    "import json\n",
    "import psycopg2\n",
    "import itertools\n",
    "import pickle\n",
    "\n",
    "\n",
    "\n",
    "import numpy             as np\n",
    "import pandas            as pd\n",
    "import seaborn           as sns\n",
    "import matplotlib.pyplot as plt\n",
    "import sklearn.model_selection as ms\n",
    "\n",
    "\n",
    "from IPython.core.display  import HTML\n",
    "from IPython.display       import Image\n",
    "from tabulate              import tabulate\n",
    "from sklearn.preprocessing import RobustScaler, StandardScaler,MinMaxScaler\n",
    "\n",
    "\n",
    "from scipy                 import stats           as ss\n"
   ]
  },
  {
   "cell_type": "markdown",
   "id": "b0cd2999",
   "metadata": {
    "ExecuteTime": {
     "end_time": "2021-09-10T15:11:54.046016Z",
     "start_time": "2021-09-10T15:11:54.042472Z"
    }
   },
   "source": [
    "### 0.2 Paths"
   ]
  },
  {
   "cell_type": "code",
   "execution_count": 2,
   "id": "79c8f4a9",
   "metadata": {
    "ExecuteTime": {
     "end_time": "2021-09-17T01:25:45.454295Z",
     "start_time": "2021-09-17T01:25:45.448483Z"
    }
   },
   "outputs": [],
   "source": [
    "data = '../data/'\n",
    "raw  = 'raw/'\n",
    "interim = 'interim/'\n",
    "processed = 'processed/'\n",
    "\n",
    "modules_path = '../models/'\n",
    "\n",
    "images_path = '../reports/figures/'"
   ]
  },
  {
   "cell_type": "markdown",
   "id": "188e8181",
   "metadata": {
    "heading_collapsed": true
   },
   "source": [
    "### 0.3 Helper Functions"
   ]
  },
  {
   "cell_type": "code",
   "execution_count": 3,
   "id": "af084bd2",
   "metadata": {
    "ExecuteTime": {
     "end_time": "2021-09-17T01:25:45.604100Z",
     "start_time": "2021-09-17T01:25:45.457831Z"
    },
    "hidden": true
   },
   "outputs": [],
   "source": [
    "def cramer_v(x,y):\n",
    "    cm = pd.crosstab(x,y).values\n",
    "    n = cm.sum()\n",
    "    r,k = cm.shape\n",
    "    \n",
    "    chi2 = ss.chi2_contingency(cm)[0]\n",
    "    chi2corr = max(0,chi2 - (k-1)*(r-1)/(n-1))\n",
    "    \n",
    "    kcorr=k - (k-1)**2/(n-1) \n",
    "    rcorr=r - (r-1)**2/(n-1) \n",
    "    \n",
    "    v = np.sqrt( (chi2corr/n) / (min (kcorr-1,rcorr-1)))\n",
    "    return v\n",
    "\n",
    "\n",
    "def categorical_feature_correlation(df_cat):\n",
    "    cat_list = df_cat.columns.to_list()\n",
    "    dic_corr = {cat : [] for cat in cat_list}\n",
    "    \n",
    "    for a,b in itertools.product(cat_list,repeat=2):\n",
    "        dic_corr[a].append(cramer_v(df_cat[a],df_cat[b]))\n",
    "\n",
    "    return pd.DataFrame(dic_corr,index=cat_list)\n",
    "\n",
    "\n",
    "def cat_info(ax,total,size = 25,file=False):\n",
    "    for p in ax.patches:\n",
    "        height = p.get_height()\n",
    "        ax.text(p.get_x()+p.get_width()/2.,\n",
    "                height,\n",
    "                '{:1.2f}%'.format(height/total*100),\n",
    "                ha=\"center\",size=size) \n",
    "    plt.show()\n",
    "    \n",
    "    \n",
    "def jupyter_settings():\n",
    "    %matplotlib inline\n",
    "    %pylab inline\n",
    "    \n",
    "    plt.style.use( 'bmh' )\n",
    "    plt.rcParams['figure.figsize'] = [25, 12]\n",
    "    plt.rcParams['font.size'] = 24\n",
    "    \n",
    "    display( HTML( '<style>.container { width:100% !important; }</style>') )\n",
    "    pd.options.display.max_columns = None\n",
    "    pd.options.display.max_rows = None\n",
    "    pd.set_option( 'display.expand_frame_repr', False )\n",
    "    \n",
    "    sns.set()"
   ]
  },
  {
   "cell_type": "code",
   "execution_count": 4,
   "id": "e5a2717e",
   "metadata": {
    "ExecuteTime": {
     "end_time": "2021-09-17T01:25:45.699451Z",
     "start_time": "2021-09-17T01:25:45.607821Z"
    },
    "hidden": true
   },
   "outputs": [
    {
     "name": "stdout",
     "output_type": "stream",
     "text": [
      "Populating the interactive namespace from numpy and matplotlib\n"
     ]
    },
    {
     "data": {
      "text/html": [
       "<style>.container { width:100% !important; }</style>"
      ],
      "text/plain": [
       "<IPython.core.display.HTML object>"
      ]
     },
     "metadata": {},
     "output_type": "display_data"
    }
   ],
   "source": [
    "jupyter_settings()"
   ]
  },
  {
   "cell_type": "markdown",
   "id": "91dbe547",
   "metadata": {},
   "source": [
    "## 5.0 Data Preparation"
   ]
  },
  {
   "cell_type": "code",
   "execution_count": 5,
   "id": "30fbad14",
   "metadata": {
    "ExecuteTime": {
     "end_time": "2021-09-17T01:25:46.186912Z",
     "start_time": "2021-09-17T01:25:45.702923Z"
    }
   },
   "outputs": [],
   "source": [
    "df5 = pd.read_csv(data+interim+'fe-filtering.csv')"
   ]
  },
  {
   "cell_type": "markdown",
   "id": "69210b27",
   "metadata": {},
   "source": [
    "### 5.1 - Creating train, validation and test datasets"
   ]
  },
  {
   "cell_type": "code",
   "execution_count": 6,
   "id": "3b94b830",
   "metadata": {
    "ExecuteTime": {
     "end_time": "2021-09-17T01:25:46.464960Z",
     "start_time": "2021-09-17T01:25:46.188858Z"
    }
   },
   "outputs": [],
   "source": [
    "x = df5.drop(['response'],axis=1)\n",
    "y = df5['response'].copy()\n",
    "\n",
    "x_train, x_validation,y_train,y_validation = ms.train_test_split(x,y,test_size=0.20)\n",
    "\n",
    "df5 = pd.concat([x_train,y_train],axis=1)"
   ]
  },
  {
   "cell_type": "code",
   "execution_count": 7,
   "id": "1e2316e9",
   "metadata": {
    "ExecuteTime": {
     "end_time": "2021-09-17T01:25:46.593131Z",
     "start_time": "2021-09-17T01:25:46.467522Z"
    }
   },
   "outputs": [],
   "source": [
    "x = df5.drop(['response'],axis=1)\n",
    "y = df5['response']\n",
    "\n",
    "x_train,x_test,y_train,y_test = ms.train_test_split(x,y,test_size=0.20)"
   ]
  },
  {
   "cell_type": "code",
   "execution_count": 8,
   "id": "533cb2d3",
   "metadata": {
    "ExecuteTime": {
     "end_time": "2021-09-17T01:25:49.222315Z",
     "start_time": "2021-09-17T01:25:46.596894Z"
    }
   },
   "outputs": [],
   "source": [
    "df5.to_csv(data+interim+'train.csv',index=False)\n",
    "pd.concat([x_validation,y_validation],axis=1).to_csv(data+interim+'validation.csv',index=False)\n",
    "pd.concat([x_test,y_test],axis=1).to_csv(data+interim+'test.csv',index=False)"
   ]
  },
  {
   "cell_type": "code",
   "execution_count": null,
   "id": "c4226d09",
   "metadata": {},
   "outputs": [],
   "source": []
  },
  {
   "cell_type": "markdown",
   "id": "715fced7",
   "metadata": {},
   "source": [
    "### 5.2 Rescaling and Standardization"
   ]
  },
  {
   "cell_type": "code",
   "execution_count": 9,
   "id": "de10606c",
   "metadata": {
    "ExecuteTime": {
     "end_time": "2021-09-17T01:25:49.317862Z",
     "start_time": "2021-09-17T01:25:49.224339Z"
    }
   },
   "outputs": [],
   "source": [
    "\n",
    "annual_premium_scaler = RobustScaler() \n",
    "age_scaler = MinMaxScaler()\n",
    "vintage_scaler = MinMaxScaler()\n",
    "\n",
    "df5['age'] = age_scaler.fit_transform(df5[['age']])\n",
    "pickle.dump(age_scaler,open(modules_path+'age_scaler.pkl','wb'))\n",
    "\n",
    "\n",
    "df5['annual_premium'] = annual_premium_scaler.fit_transform(df5[['annual_premium']])\n",
    "pickle.dump(annual_premium_scaler,open(modules_path+'annual_premium_scaler.pkl','wb'))\n",
    "\n",
    "\n",
    "df5['vintage'] = vintage_scaler.fit_transform(df5[['vintage']])\n",
    "pickle.dump(vintage_scaler,open(modules_path+'vintage_scaler.pkl','wb'))"
   ]
  },
  {
   "cell_type": "markdown",
   "id": "f6e33246",
   "metadata": {},
   "source": [
    "### 5.2 Variables Encoding"
   ]
  },
  {
   "cell_type": "code",
   "execution_count": 10,
   "id": "ebcf551b",
   "metadata": {
    "ExecuteTime": {
     "end_time": "2021-09-17T01:25:49.712777Z",
     "start_time": "2021-09-17T01:25:49.319903Z"
    },
    "scrolled": true
   },
   "outputs": [],
   "source": [
    "#gender - Caracteriza sexo do cliente  ---> OneHotEncoding/LabelEncoding?\n",
    "gender_encoder = {'male':0,'female':1}\n",
    "\n",
    "df5.loc[:,'gender'] = df5['gender'].map(gender_encoder)\n",
    "\n",
    "#region_code - codigo do cliente ---> frequencyEncoding\n",
    "region_code_encoder = df5.groupby('region_code').size()/len(df5)\n",
    "df5.loc[:,'region_code']=df5['region_code'].map(region_code_encoder)\n",
    "pickle.dump(region_code_encoder,open(modules_path+'region_code_encoder.pkl','wb'))\n",
    "\n",
    "#vehicle_age - categoriza idade do veiculo ---> frequencyEncoding\n",
    "vehicle_age_encoder = df5.groupby('vehicle_age').size()/len(df5)\n",
    "df5.loc[:,'vehicle_age']=df5['vehicle_age'].map(vehicle_age_encoder)\n",
    "pickle.dump(vehicle_age_encoder,open(modules_path+'vehicle_age_encoder.pkl','wb'))\n",
    "\n",
    "#policy_sales_channel - comunicacao com os clientes --->FrequencyEncoding\n",
    "policy_sales_channel_encoder = df5.groupby('policy_sales_channel').size()/len(df5)\n",
    "df5.loc[:,'policy_sales_channel']=df5['policy_sales_channel'].map(policy_sales_channel_encoder)\n",
    "pickle.dump(policy_sales_channel_encoder,open(modules_path+'policy_sales_channel_encoder.pkl','wb'))\n",
    "\n",
    "#gender,driving_license, vehicle_damage,Previously_insured ---> Usar OHE no proximo ciclo\n",
    "#Features em FrequencyEncoding ---> Usar TargetEncoding no prox ciclo.\n"
   ]
  },
  {
   "cell_type": "markdown",
   "id": "8d6291a5",
   "metadata": {},
   "source": [
    "### 5.3 Validation Data Preparation"
   ]
  },
  {
   "cell_type": "code",
   "execution_count": 11,
   "id": "6bab0d54",
   "metadata": {
    "ExecuteTime": {
     "end_time": "2021-09-17T01:25:49.735169Z",
     "start_time": "2021-09-17T01:25:49.716810Z"
    },
    "scrolled": true
   },
   "outputs": [],
   "source": [
    "#Rescaling and Standardization\n",
    "\n",
    "x_validation['age'] = age_scaler.transform(x_validation[['age']].values)\n",
    "x_validation['annual_premium'] = annual_premium_scaler.transform(x_validation[['annual_premium']].values)\n",
    "x_validation['vintage'] = vintage_scaler.transform(x_validation[['vintage']].values)"
   ]
  },
  {
   "cell_type": "code",
   "execution_count": 12,
   "id": "413b2302",
   "metadata": {
    "ExecuteTime": {
     "end_time": "2021-09-17T01:25:49.897711Z",
     "start_time": "2021-09-17T01:25:49.737453Z"
    }
   },
   "outputs": [],
   "source": [
    "#Encoding\n",
    "\n",
    "\n",
    "x_validation.loc[:,'gender'] = x_validation['gender'].map(gender_encoder)\n",
    "x_validation.loc[:,'region_code'] = x_validation['region_code'].map(region_code_encoder)\n",
    "x_validation.loc[:,'vehicle_age'] = x_validation['vehicle_age'].map(vehicle_age_encoder)\n",
    "x_validation.loc[:,'policy_sales_channel'] = x_validation['policy_sales_channel'].map(policy_sales_channel_encoder)"
   ]
  },
  {
   "cell_type": "code",
   "execution_count": 13,
   "id": "7b9e0684",
   "metadata": {
    "ExecuteTime": {
     "end_time": "2021-09-17T01:25:49.956169Z",
     "start_time": "2021-09-17T01:25:49.902253Z"
    }
   },
   "outputs": [
    {
     "data": {
      "text/plain": [
       "id                      0\n",
       "gender                  0\n",
       "age                     0\n",
       "region_code             0\n",
       "policy_sales_channel    5\n",
       "driving_license         0\n",
       "vehicle_age             0\n",
       "vehicle_damage          0\n",
       "previously_insured      0\n",
       "annual_premium          0\n",
       "vintage                 0\n",
       "dtype: int64"
      ]
     },
     "execution_count": 13,
     "metadata": {},
     "output_type": "execute_result"
    }
   ],
   "source": [
    "x_validation.isna().sum() #discover this in next cycle"
   ]
  },
  {
   "cell_type": "code",
   "execution_count": 14,
   "id": "04309e08",
   "metadata": {
    "ExecuteTime": {
     "end_time": "2021-09-17T01:25:50.040626Z",
     "start_time": "2021-09-17T01:25:49.959266Z"
    }
   },
   "outputs": [],
   "source": [
    "x_validation.fillna(0,inplace = True)"
   ]
  },
  {
   "cell_type": "markdown",
   "id": "ec66d614",
   "metadata": {},
   "source": [
    "### 5.4 Saving Processed Data"
   ]
  },
  {
   "cell_type": "code",
   "execution_count": 15,
   "id": "fc170fab",
   "metadata": {
    "ExecuteTime": {
     "end_time": "2021-09-17T01:25:55.524804Z",
     "start_time": "2021-09-17T01:25:50.042610Z"
    }
   },
   "outputs": [],
   "source": [
    "validation = x_validation.copy()\n",
    "validation['response'] = y_validation\n",
    "\n",
    "df5.to_csv(data+processed+'train_processed.csv',index=False)\n",
    "validation.to_csv(data+processed+'validation_processed.csv',index=False)"
   ]
  },
  {
   "cell_type": "code",
   "execution_count": null,
   "id": "6bd2369b",
   "metadata": {},
   "outputs": [],
   "source": []
  }
 ],
 "metadata": {
  "kernelspec": {
   "display_name": "Python 3",
   "language": "python",
   "name": "python3"
  },
  "language_info": {
   "codemirror_mode": {
    "name": "ipython",
    "version": 3
   },
   "file_extension": ".py",
   "mimetype": "text/x-python",
   "name": "python",
   "nbconvert_exporter": "python",
   "pygments_lexer": "ipython3",
   "version": "3.6.9"
  }
 },
 "nbformat": 4,
 "nbformat_minor": 5
}
