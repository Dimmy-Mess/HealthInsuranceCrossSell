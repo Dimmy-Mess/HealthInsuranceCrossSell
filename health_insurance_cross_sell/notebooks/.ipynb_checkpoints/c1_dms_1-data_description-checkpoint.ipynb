{
 "cells": [
  {
   "cell_type": "markdown",
   "id": "92047179",
   "metadata": {},
   "source": [
    "## 0. Imports, Paths and Helper Functions"
   ]
  },
  {
   "cell_type": "markdown",
   "id": "676f1a4e",
   "metadata": {},
   "source": [
    "### 0.1 Imports"
   ]
  },
  {
   "cell_type": "code",
   "execution_count": 1,
   "id": "62fd822d",
   "metadata": {
    "ExecuteTime": {
     "end_time": "2021-09-10T15:11:37.581707Z",
     "start_time": "2021-09-10T15:11:35.966084Z"
    }
   },
   "outputs": [],
   "source": [
    "import numpy             as np\n",
    "import pandas            as pd\n",
    "import seaborn           as sns\n",
    "import matplotlib.pyplot as plt\n",
    "\n",
    "\n",
    "from IPython.core.display  import HTML\n",
    "from IPython.display       import Image"
   ]
  },
  {
   "cell_type": "markdown",
   "id": "b0cd2999",
   "metadata": {
    "ExecuteTime": {
     "end_time": "2021-09-10T15:11:54.046016Z",
     "start_time": "2021-09-10T15:11:54.042472Z"
    }
   },
   "source": [
    "### 0.2 Paths"
   ]
  },
  {
   "cell_type": "code",
   "execution_count": 3,
   "id": "79c8f4a9",
   "metadata": {
    "ExecuteTime": {
     "end_time": "2021-09-10T15:14:50.848533Z",
     "start_time": "2021-09-10T15:14:50.843196Z"
    }
   },
   "outputs": [],
   "source": [
    "data = '../data/'\n",
    "raw  = 'raw/'\n",
    "interim = 'interim/'"
   ]
  },
  {
   "cell_type": "markdown",
   "id": "188e8181",
   "metadata": {},
   "source": [
    "### 0.3 Helper Functions"
   ]
  },
  {
   "cell_type": "code",
   "execution_count": 4,
   "id": "af084bd2",
   "metadata": {
    "ExecuteTime": {
     "end_time": "2021-09-10T15:15:59.082484Z",
     "start_time": "2021-09-10T15:15:59.066601Z"
    }
   },
   "outputs": [],
   "source": [
    "def jupyter_settings():\n",
    "    %matplotlib inline\n",
    "    %pylab inline\n",
    "    \n",
    "    plt.style.use( 'bmh' )\n",
    "    plt.rcParams['figure.figsize'] = [25, 12]\n",
    "    plt.rcParams['font.size'] = 24\n",
    "    \n",
    "    display( HTML( '<style>.container { width:100% !important; }</style>') )\n",
    "    pd.options.display.max_columns = None\n",
    "    pd.options.display.max_rows = None\n",
    "    pd.set_option( 'display.expand_frame_repr', False )\n",
    "    \n",
    "    sns.set()"
   ]
  },
  {
   "cell_type": "code",
   "execution_count": 5,
   "id": "0371d001",
   "metadata": {
    "ExecuteTime": {
     "end_time": "2021-09-10T15:16:10.049700Z",
     "start_time": "2021-09-10T15:16:10.026723Z"
    }
   },
   "outputs": [
    {
     "name": "stdout",
     "output_type": "stream",
     "text": [
      "Populating the interactive namespace from numpy and matplotlib\n"
     ]
    },
    {
     "data": {
      "text/html": [
       "<style>.container { width:100% !important; }</style>"
      ],
      "text/plain": [
       "<IPython.core.display.HTML object>"
      ]
     },
     "metadata": {},
     "output_type": "display_data"
    }
   ],
   "source": [
    "jupyter_settings()"
   ]
  },
  {
   "cell_type": "markdown",
   "id": "b21be68f",
   "metadata": {},
   "source": [
    "## 1.0 Data Description"
   ]
  },
  {
   "cell_type": "code",
   "execution_count": 9,
   "id": "7d8c5be7",
   "metadata": {
    "ExecuteTime": {
     "end_time": "2021-09-10T15:19:56.990281Z",
     "start_time": "2021-09-10T15:19:56.565451Z"
    }
   },
   "outputs": [],
   "source": [
    "df1 = pd.read_csv(data+raw+'crossel.csv')"
   ]
  },
  {
   "cell_type": "markdown",
   "id": "abc5ba6a",
   "metadata": {
    "ExecuteTime": {
     "end_time": "2021-09-10T15:22:40.783882Z",
     "start_time": "2021-09-10T15:22:40.780308Z"
    }
   },
   "source": [
    "### 1.1 - Data dimensions and columns"
   ]
  },
  {
   "cell_type": "code",
   "execution_count": 12,
   "id": "fd996b8f",
   "metadata": {
    "ExecuteTime": {
     "end_time": "2021-09-10T15:22:45.206407Z",
     "start_time": "2021-09-10T15:22:45.199342Z"
    }
   },
   "outputs": [
    {
     "name": "stdout",
     "output_type": "stream",
     "text": [
      "number of rows: 381109\n",
      "number of columns: 13\n"
     ]
    },
    {
     "data": {
      "text/plain": [
       "Index(['Unnamed: 0', 'id', 'gender', 'age', 'region_code',\n",
       "       'policy_sales_channel', 'driving_license', 'vehicle_age',\n",
       "       'vehicle_damage', 'previously_insured', 'annual_premium', 'vintage',\n",
       "       'response'],\n",
       "      dtype='object')"
      ]
     },
     "execution_count": 12,
     "metadata": {},
     "output_type": "execute_result"
    }
   ],
   "source": [
    "print(f'number of rows: {df1.shape[0]}')\n",
    "print(f'number of columns: {df1.shape[1]}')\n",
    "\n",
    "df1.columns #already in snake case! :)"
   ]
  },
  {
   "cell_type": "markdown",
   "id": "d3884912",
   "metadata": {
    "ExecuteTime": {
     "end_time": "2021-09-10T15:19:58.859858Z",
     "start_time": "2021-09-10T15:19:58.852165Z"
    }
   },
   "source": [
    "### 1.2 - Data types"
   ]
  },
  {
   "cell_type": "code",
   "execution_count": 25,
   "id": "673e2db3-9fab-4e7a-a8da-0641e48400fc",
   "metadata": {
    "ExecuteTime": {
     "end_time": "2021-08-07T00:14:44.764702Z",
     "start_time": "2021-08-07T00:14:44.678890Z"
    }
   },
   "outputs": [
    {
     "data": {
      "text/plain": [
       "id                        int64\n",
       "gender                   object\n",
       "age                       int64\n",
       "region_code             float64\n",
       "policy_sales_channel    float64\n",
       "driving_license           int64\n",
       "vehicle_age              object\n",
       "vehicle_damage           object\n",
       "previously_insured        int64\n",
       "annual_premium          float64\n",
       "vintage                   int64\n",
       "response                  int64\n",
       "dtype: object"
      ]
     },
     "execution_count": 25,
     "metadata": {},
     "output_type": "execute_result"
    }
   ],
   "source": [
    "df1.dtypes"
   ]
  },
  {
   "cell_type": "markdown",
   "id": "28bb912c-5111-44aa-82af-d62069a77593",
   "metadata": {},
   "source": [
    "### 1.3 - NA Check and Management"
   ]
  },
  {
   "cell_type": "code",
   "execution_count": 26,
   "id": "6c8b2f8b-07bc-48bc-a173-c6e8996a4263",
   "metadata": {
    "ExecuteTime": {
     "end_time": "2021-08-07T00:14:44.929333Z",
     "start_time": "2021-08-07T00:14:44.766812Z"
    }
   },
   "outputs": [
    {
     "data": {
      "text/plain": [
       "id                      0\n",
       "gender                  0\n",
       "age                     0\n",
       "region_code             0\n",
       "policy_sales_channel    0\n",
       "driving_license         0\n",
       "vehicle_age             0\n",
       "vehicle_damage          0\n",
       "previously_insured      0\n",
       "annual_premium          0\n",
       "vintage                 0\n",
       "response                0\n",
       "dtype: int64"
      ]
     },
     "execution_count": 26,
     "metadata": {},
     "output_type": "execute_result"
    }
   ],
   "source": [
    "df1.isna().sum() #data completely filled! ;)"
   ]
  },
  {
   "cell_type": "markdown",
   "id": "f5bed443-3ed1-442c-a307-b75e565ca5ef",
   "metadata": {
    "heading_collapsed": true
   },
   "source": [
    "### 1.4 - Descriptive Statistics"
   ]
  },
  {
   "cell_type": "code",
   "execution_count": 27,
   "id": "3ad9a0c4-cb7a-4f29-b723-c2bf9b2b49ca",
   "metadata": {
    "ExecuteTime": {
     "end_time": "2021-08-07T00:14:45.039400Z",
     "start_time": "2021-08-07T00:14:44.931941Z"
    },
    "hidden": true
   },
   "outputs": [],
   "source": [
    "num_attributes = df1.select_dtypes(include = ['int64','float64'])\n",
    "cat_attributes = df1.select_dtypes(exclude = ['int64','float64'])"
   ]
  },
  {
   "cell_type": "markdown",
   "id": "5ffa1404-52b9-4df1-a2fb-1805c0cfbc48",
   "metadata": {
    "heading_collapsed": true,
    "hidden": true
   },
   "source": [
    "#### 1.4.1 - Numerical attributes"
   ]
  },
  {
   "cell_type": "code",
   "execution_count": 28,
   "id": "34598e45-623f-4eb0-9b6e-77ad024c61b9",
   "metadata": {
    "ExecuteTime": {
     "end_time": "2021-08-07T00:14:46.149725Z",
     "start_time": "2021-08-07T00:14:45.042813Z"
    },
    "hidden": true
   },
   "outputs": [
    {
     "data": {
      "text/html": [
       "<div>\n",
       "<style scoped>\n",
       "    .dataframe tbody tr th:only-of-type {\n",
       "        vertical-align: middle;\n",
       "    }\n",
       "\n",
       "    .dataframe tbody tr th {\n",
       "        vertical-align: top;\n",
       "    }\n",
       "\n",
       "    .dataframe thead th {\n",
       "        text-align: right;\n",
       "    }\n",
       "</style>\n",
       "<table border=\"1\" class=\"dataframe\">\n",
       "  <thead>\n",
       "    <tr style=\"text-align: right;\">\n",
       "      <th></th>\n",
       "      <th>atributes</th>\n",
       "      <th>mean</th>\n",
       "      <th>median</th>\n",
       "      <th>std</th>\n",
       "      <th>min</th>\n",
       "      <th>max</th>\n",
       "      <th>range</th>\n",
       "      <th>skew</th>\n",
       "      <th>kurtosis</th>\n",
       "    </tr>\n",
       "  </thead>\n",
       "  <tbody>\n",
       "    <tr>\n",
       "      <th>0</th>\n",
       "      <td>id</td>\n",
       "      <td>190555.000000</td>\n",
       "      <td>190555.0</td>\n",
       "      <td>110016.691870</td>\n",
       "      <td>1.0</td>\n",
       "      <td>381109.0</td>\n",
       "      <td>381108.0</td>\n",
       "      <td>-8.071174e-18</td>\n",
       "      <td>-1.200000</td>\n",
       "    </tr>\n",
       "    <tr>\n",
       "      <th>1</th>\n",
       "      <td>age</td>\n",
       "      <td>38.822584</td>\n",
       "      <td>36.0</td>\n",
       "      <td>15.511591</td>\n",
       "      <td>20.0</td>\n",
       "      <td>85.0</td>\n",
       "      <td>65.0</td>\n",
       "      <td>6.725390e-01</td>\n",
       "      <td>-0.565655</td>\n",
       "    </tr>\n",
       "    <tr>\n",
       "      <th>2</th>\n",
       "      <td>region_code</td>\n",
       "      <td>26.388807</td>\n",
       "      <td>28.0</td>\n",
       "      <td>13.229871</td>\n",
       "      <td>0.0</td>\n",
       "      <td>52.0</td>\n",
       "      <td>52.0</td>\n",
       "      <td>-1.152664e-01</td>\n",
       "      <td>-0.867857</td>\n",
       "    </tr>\n",
       "    <tr>\n",
       "      <th>3</th>\n",
       "      <td>policy_sales_channel</td>\n",
       "      <td>112.034295</td>\n",
       "      <td>133.0</td>\n",
       "      <td>54.203924</td>\n",
       "      <td>1.0</td>\n",
       "      <td>163.0</td>\n",
       "      <td>162.0</td>\n",
       "      <td>-9.000081e-01</td>\n",
       "      <td>-0.970810</td>\n",
       "    </tr>\n",
       "    <tr>\n",
       "      <th>4</th>\n",
       "      <td>driving_license</td>\n",
       "      <td>0.997869</td>\n",
       "      <td>1.0</td>\n",
       "      <td>0.046109</td>\n",
       "      <td>0.0</td>\n",
       "      <td>1.0</td>\n",
       "      <td>1.0</td>\n",
       "      <td>-2.159518e+01</td>\n",
       "      <td>464.354302</td>\n",
       "    </tr>\n",
       "    <tr>\n",
       "      <th>5</th>\n",
       "      <td>previously_insured</td>\n",
       "      <td>0.458210</td>\n",
       "      <td>0.0</td>\n",
       "      <td>0.498251</td>\n",
       "      <td>0.0</td>\n",
       "      <td>1.0</td>\n",
       "      <td>1.0</td>\n",
       "      <td>1.677471e-01</td>\n",
       "      <td>-1.971871</td>\n",
       "    </tr>\n",
       "    <tr>\n",
       "      <th>6</th>\n",
       "      <td>annual_premium</td>\n",
       "      <td>30564.389581</td>\n",
       "      <td>31669.0</td>\n",
       "      <td>17213.132474</td>\n",
       "      <td>2630.0</td>\n",
       "      <td>540165.0</td>\n",
       "      <td>537535.0</td>\n",
       "      <td>1.766087e+00</td>\n",
       "      <td>34.004569</td>\n",
       "    </tr>\n",
       "    <tr>\n",
       "      <th>7</th>\n",
       "      <td>vintage</td>\n",
       "      <td>154.347397</td>\n",
       "      <td>154.0</td>\n",
       "      <td>83.671194</td>\n",
       "      <td>10.0</td>\n",
       "      <td>299.0</td>\n",
       "      <td>289.0</td>\n",
       "      <td>3.029517e-03</td>\n",
       "      <td>-1.200688</td>\n",
       "    </tr>\n",
       "    <tr>\n",
       "      <th>8</th>\n",
       "      <td>response</td>\n",
       "      <td>0.122563</td>\n",
       "      <td>0.0</td>\n",
       "      <td>0.327935</td>\n",
       "      <td>0.0</td>\n",
       "      <td>1.0</td>\n",
       "      <td>1.0</td>\n",
       "      <td>2.301906e+00</td>\n",
       "      <td>3.298788</td>\n",
       "    </tr>\n",
       "  </tbody>\n",
       "</table>\n",
       "</div>"
      ],
      "text/plain": [
       "              atributes           mean    median            std     min       max     range          skew    kurtosis\n",
       "0                    id  190555.000000  190555.0  110016.691870     1.0  381109.0  381108.0 -8.071174e-18   -1.200000\n",
       "1                   age      38.822584      36.0      15.511591    20.0      85.0      65.0  6.725390e-01   -0.565655\n",
       "2           region_code      26.388807      28.0      13.229871     0.0      52.0      52.0 -1.152664e-01   -0.867857\n",
       "3  policy_sales_channel     112.034295     133.0      54.203924     1.0     163.0     162.0 -9.000081e-01   -0.970810\n",
       "4       driving_license       0.997869       1.0       0.046109     0.0       1.0       1.0 -2.159518e+01  464.354302\n",
       "5    previously_insured       0.458210       0.0       0.498251     0.0       1.0       1.0  1.677471e-01   -1.971871\n",
       "6        annual_premium   30564.389581   31669.0   17213.132474  2630.0  540165.0  537535.0  1.766087e+00   34.004569\n",
       "7               vintage     154.347397     154.0      83.671194    10.0     299.0     289.0  3.029517e-03   -1.200688\n",
       "8              response       0.122563       0.0       0.327935     0.0       1.0       1.0  2.301906e+00    3.298788"
      ]
     },
     "execution_count": 28,
     "metadata": {},
     "output_type": "execute_result"
    }
   ],
   "source": [
    "#central tendencies - mean and median\n",
    "ct1 = pd.DataFrame(num_attributes.apply(np.mean)).T\n",
    "ct2 = pd.DataFrame(num_attributes.apply(np.median)).T\n",
    "\n",
    "#dispersion - std, min, max, range, skew, kurtosis \n",
    "d1 = pd.DataFrame(num_attributes.apply(np.std)).T\n",
    "d2 = pd.DataFrame(num_attributes.apply(min)).T\n",
    "d3 = pd.DataFrame(num_attributes.apply(max)).T\n",
    "d4 = pd.DataFrame(num_attributes.apply(lambda x: x.max() - x.min())).T\n",
    "d5 = pd.DataFrame(num_attributes.apply(lambda x: x.skew())).T\n",
    "d6 = pd.DataFrame(num_attributes.apply(lambda x: x.kurtosis())).T\n",
    "\n",
    "r = pd.concat([ct1,ct2,d1,d2,d3,d4,d5,d6]).T.reset_index()\n",
    "r.columns = ['atributes','mean','median','std', 'min', 'max', 'range', 'skew', 'kurtosis']\n",
    "r"
   ]
  },
  {
   "cell_type": "code",
   "execution_count": 29,
   "id": "90ba3a8d-1070-4003-92bb-7a8a46d4bf72",
   "metadata": {
    "ExecuteTime": {
     "end_time": "2021-08-07T00:14:46.752561Z",
     "start_time": "2021-08-07T00:14:46.152713Z"
    },
    "hidden": true
   },
   "outputs": [
    {
     "data": {
      "text/plain": [
       "<AxesSubplot:xlabel='response', ylabel='count'>"
      ]
     },
     "execution_count": 29,
     "metadata": {},
     "output_type": "execute_result"
    },
    {
     "data": {
      "image/png": "[encoded data removed]",
      "text/plain": [
       "<Figure size 1800x864 with 1 Axes>"
      ]
     },
     "metadata": {},
     "output_type": "display_data"
    }
   ],
   "source": [
    "sns.countplot(x='response',data=df1)"
   ]
  },
  {
   "cell_type": "markdown",
   "id": "a7d8f099-cbc5-46f7-923e-c1e314a0934d",
   "metadata": {
    "heading_collapsed": true,
    "hidden": true
   },
   "source": [
    "#### 1.4.2 - Categorical attributes"
   ]
  },
  {
   "cell_type": "code",
   "execution_count": 58,
   "id": "ab8b5bfd-baec-47ab-8899-3e6ed5a9d59e",
   "metadata": {
    "ExecuteTime": {
     "end_time": "2021-08-07T19:44:28.114393Z",
     "start_time": "2021-08-07T19:44:28.019351Z"
    },
    "hidden": true
   },
   "outputs": [
    {
     "data": {
      "text/html": [
       "<div>\n",
       "<style scoped>\n",
       "    .dataframe tbody tr th:only-of-type {\n",
       "        vertical-align: middle;\n",
       "    }\n",
       "\n",
       "    .dataframe tbody tr th {\n",
       "        vertical-align: top;\n",
       "    }\n",
       "\n",
       "    .dataframe thead th {\n",
       "        text-align: right;\n",
       "    }\n",
       "</style>\n",
       "<table border=\"1\" class=\"dataframe\">\n",
       "  <thead>\n",
       "    <tr style=\"text-align: right;\">\n",
       "      <th></th>\n",
       "      <th>gender</th>\n",
       "    </tr>\n",
       "  </thead>\n",
       "  <tbody>\n",
       "    <tr>\n",
       "      <th>Male</th>\n",
       "      <td>0.540761</td>\n",
       "    </tr>\n",
       "    <tr>\n",
       "      <th>Female</th>\n",
       "      <td>0.459239</td>\n",
       "    </tr>\n",
       "  </tbody>\n",
       "</table>\n",
       "</div>"
      ],
      "text/plain": [
       "          gender\n",
       "Male    0.540761\n",
       "Female  0.459239"
      ]
     },
     "execution_count": 58,
     "metadata": {},
     "output_type": "execute_result"
    }
   ],
   "source": [
    "pd.DataFrame(cat_attributes['gender'].value_counts(normalize=True), index = cat_attributes['gender'].unique())"
   ]
  },
  {
   "cell_type": "code",
   "execution_count": 59,
   "id": "e2625473",
   "metadata": {
    "ExecuteTime": {
     "end_time": "2021-08-07T19:45:17.155835Z",
     "start_time": "2021-08-07T19:45:17.050325Z"
    },
    "hidden": true
   },
   "outputs": [
    {
     "data": {
      "text/html": [
       "<div>\n",
       "<style scoped>\n",
       "    .dataframe tbody tr th:only-of-type {\n",
       "        vertical-align: middle;\n",
       "    }\n",
       "\n",
       "    .dataframe tbody tr th {\n",
       "        vertical-align: top;\n",
       "    }\n",
       "\n",
       "    .dataframe thead th {\n",
       "        text-align: right;\n",
       "    }\n",
       "</style>\n",
       "<table border=\"1\" class=\"dataframe\">\n",
       "  <thead>\n",
       "    <tr style=\"text-align: right;\">\n",
       "      <th></th>\n",
       "      <th>vehicle_age</th>\n",
       "    </tr>\n",
       "  </thead>\n",
       "  <tbody>\n",
       "    <tr>\n",
       "      <th>&lt; 1 Year</th>\n",
       "      <td>0.432385</td>\n",
       "    </tr>\n",
       "    <tr>\n",
       "      <th>1-2 Year</th>\n",
       "      <td>0.525613</td>\n",
       "    </tr>\n",
       "    <tr>\n",
       "      <th>&gt; 2 Years</th>\n",
       "      <td>0.042001</td>\n",
       "    </tr>\n",
       "  </tbody>\n",
       "</table>\n",
       "</div>"
      ],
      "text/plain": [
       "           vehicle_age\n",
       "< 1 Year      0.432385\n",
       "1-2 Year      0.525613\n",
       "> 2 Years     0.042001"
      ]
     },
     "execution_count": 59,
     "metadata": {},
     "output_type": "execute_result"
    }
   ],
   "source": [
    "pd.DataFrame(cat_attributes['vehicle_age'].value_counts(normalize=True), index = cat_attributes['vehicle_age'].unique())"
   ]
  },
  {
   "cell_type": "code",
   "execution_count": 60,
   "id": "f3f1ba4e",
   "metadata": {
    "ExecuteTime": {
     "end_time": "2021-08-07T19:45:53.072506Z",
     "start_time": "2021-08-07T19:45:52.984536Z"
    },
    "hidden": true
   },
   "outputs": [
    {
     "data": {
      "text/html": [
       "<div>\n",
       "<style scoped>\n",
       "    .dataframe tbody tr th:only-of-type {\n",
       "        vertical-align: middle;\n",
       "    }\n",
       "\n",
       "    .dataframe tbody tr th {\n",
       "        vertical-align: top;\n",
       "    }\n",
       "\n",
       "    .dataframe thead th {\n",
       "        text-align: right;\n",
       "    }\n",
       "</style>\n",
       "<table border=\"1\" class=\"dataframe\">\n",
       "  <thead>\n",
       "    <tr style=\"text-align: right;\">\n",
       "      <th></th>\n",
       "      <th>vehicle_damage</th>\n",
       "    </tr>\n",
       "  </thead>\n",
       "  <tbody>\n",
       "    <tr>\n",
       "      <th>Yes</th>\n",
       "      <td>0.504877</td>\n",
       "    </tr>\n",
       "    <tr>\n",
       "      <th>No</th>\n",
       "      <td>0.495123</td>\n",
       "    </tr>\n",
       "  </tbody>\n",
       "</table>\n",
       "</div>"
      ],
      "text/plain": [
       "     vehicle_damage\n",
       "Yes        0.504877\n",
       "No         0.495123"
      ]
     },
     "execution_count": 60,
     "metadata": {},
     "output_type": "execute_result"
    }
   ],
   "source": [
    "pd.DataFrame(cat_attributes['vehicle_damage'].value_counts(normalize=True), index = cat_attributes['vehicle_damage'].unique())"
   ]
  },
  {
   "cell_type": "code",
   "execution_count": 68,
   "id": "52d56325",
   "metadata": {
    "ExecuteTime": {
     "end_time": "2021-08-07T20:07:04.446702Z",
     "start_time": "2021-08-07T20:07:01.650623Z"
    },
    "hidden": true
   },
   "outputs": [
    {
     "data": {
      "text/plain": [
       "<AxesSubplot:xlabel='gender', ylabel='age'>"
      ]
     },
     "execution_count": 68,
     "metadata": {},
     "output_type": "execute_result"
    },
    {
     "data": {
      "image/png": "[encoded data removed]",
      "text/plain": [
       "<Figure size 1800x864 with 2 Axes>"
      ]
     },
     "metadata": {},
     "output_type": "display_data"
    }
   ],
   "source": [
    "plt.subplot(1,2,1)\n",
    "sns.boxplot(x='response',y='age',data=df1)\n",
    "\n",
    "plt.subplot(1,2,2)\n",
    "sns.boxplot(x='gender',y='age',data=df1)\n",
    "\n"
   ]
  },
  {
   "cell_type": "code",
   "execution_count": null,
   "id": "b0bbe661",
   "metadata": {
    "hidden": true
   },
   "outputs": [],
   "source": []
  }
 ],
 "metadata": {
  "kernelspec": {
   "display_name": "Python 3",
   "language": "python",
   "name": "python3"
  },
  "language_info": {
   "codemirror_mode": {
    "name": "ipython",
    "version": 3
   },
   "file_extension": ".py",
   "mimetype": "text/x-python",
   "name": "python",
   "nbconvert_exporter": "python",
   "pygments_lexer": "ipython3",
   "version": "3.6.9"
  }
 },
 "nbformat": 4,
 "nbformat_minor": 5
}
